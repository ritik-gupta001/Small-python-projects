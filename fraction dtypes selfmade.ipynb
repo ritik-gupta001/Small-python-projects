{
 "cells": [
  {
   "cell_type": "code",
   "execution_count": 14,
   "id": "20d2b42f-b85a-4abb-83b9-3ec7be29f203",
   "metadata": {},
   "outputs": [],
   "source": [
    "class Fraction:\n",
    "    \n",
    "    def __init__(self, n, d):\n",
    "        self.num = n\n",
    "        self.den = d\n",
    "        \n",
    "    def __str__(self):\n",
    "        return\"{}/{}\".format(self.num, self.den)\n",
    "    \n",
    "    def __add__(self, other):\n",
    "        temp_num = self.num * other.den + other.num * self.den\n",
    "        temp_den = self.den * other.den\n",
    "        return\"{}/{}\".format(temp_num, temp_den)\n",
    "    \n",
    "    def __sub__(self, other):\n",
    "        temp_num = self.num * other.den - other.num * self.den\n",
    "        temp_den = self.den * other.den\n",
    "        return\"{}/{}\".format(temp_num, temp_den)\n",
    "    \n",
    "    def __mul__(self, other):\n",
    "        temp_num = self.num * other.num\n",
    "        temp_den = self.den * other.den\n",
    "        return\"{}/{}\".format(temp_num, temp_den)\n",
    "    \n",
    "    def __truediv__(self, other):\n",
    "        temp_num = self.num * other.den\n",
    "        temp_den = self.den * other.num\n",
    "        return\"{}/{}\".format(temp_num, temp_den)"
   ]
  },
  {
   "cell_type": "code",
   "execution_count": 15,
   "id": "5a3761f0-cad4-4652-bf87-e5a9a2769556",
   "metadata": {},
   "outputs": [],
   "source": [
    "x = Fraction(4, 5)"
   ]
  },
  {
   "cell_type": "code",
   "execution_count": 16,
   "id": "588ce37f-1aa9-4c31-8fa2-df0237415109",
   "metadata": {},
   "outputs": [
    {
     "name": "stdout",
     "output_type": "stream",
     "text": [
      "4/5\n"
     ]
    }
   ],
   "source": [
    "print(x)"
   ]
  },
  {
   "cell_type": "code",
   "execution_count": 17,
   "id": "59d86375-561b-4cc8-b42b-33a80da59689",
   "metadata": {},
   "outputs": [
    {
     "data": {
      "text/plain": [
       "__main__.Fraction"
      ]
     },
     "execution_count": 17,
     "metadata": {},
     "output_type": "execute_result"
    }
   ],
   "source": [
    "type(x)"
   ]
  },
  {
   "cell_type": "code",
   "execution_count": 18,
   "id": "1b9d6598-5eca-4fed-85c1-f69fc7678c91",
   "metadata": {},
   "outputs": [],
   "source": [
    "y = Fraction(5, 6)"
   ]
  },
  {
   "cell_type": "code",
   "execution_count": 19,
   "id": "58feaff4-4870-4645-b759-910000f83c8f",
   "metadata": {},
   "outputs": [
    {
     "name": "stdout",
     "output_type": "stream",
     "text": [
      "5/6\n"
     ]
    }
   ],
   "source": [
    "print(y)"
   ]
  },
  {
   "cell_type": "code",
   "execution_count": 20,
   "id": "be042638-c0d4-414a-82b7-a2555c9f1832",
   "metadata": {},
   "outputs": [
    {
     "data": {
      "text/plain": [
       "__main__.Fraction"
      ]
     },
     "execution_count": 20,
     "metadata": {},
     "output_type": "execute_result"
    }
   ],
   "source": [
    "type(y)"
   ]
  },
  {
   "cell_type": "code",
   "execution_count": 21,
   "id": "0a97564e-52d3-4f4f-8862-04f5e8e3844d",
   "metadata": {},
   "outputs": [],
   "source": [
    "L = [1, 2, 3, x]"
   ]
  },
  {
   "cell_type": "code",
   "execution_count": 22,
   "id": "ec9475ed-d77e-46db-b2ca-1e8f7983b690",
   "metadata": {},
   "outputs": [
    {
     "data": {
      "text/plain": [
       "[1, 2, 3, <__main__.Fraction at 0x1f94487ab50>]"
      ]
     },
     "execution_count": 22,
     "metadata": {},
     "output_type": "execute_result"
    }
   ],
   "source": [
    "L\n"
   ]
  },
  {
   "cell_type": "code",
   "execution_count": 23,
   "id": "5155c00e-7dd6-4492-83fd-00313049bcbf",
   "metadata": {},
   "outputs": [
    {
     "name": "stdout",
     "output_type": "stream",
     "text": [
      "49/30\n"
     ]
    }
   ],
   "source": [
    "print(x+y)"
   ]
  },
  {
   "cell_type": "code",
   "execution_count": 24,
   "id": "8a40bca1-8de8-4dea-9be8-d595f6660405",
   "metadata": {},
   "outputs": [
    {
     "name": "stdout",
     "output_type": "stream",
     "text": [
      "-1/30\n"
     ]
    }
   ],
   "source": [
    "print(x-y)"
   ]
  },
  {
   "cell_type": "code",
   "execution_count": 25,
   "id": "24db93c8-21b0-4f1a-8407-3c70202df5f7",
   "metadata": {},
   "outputs": [
    {
     "name": "stdout",
     "output_type": "stream",
     "text": [
      "20/30\n"
     ]
    }
   ],
   "source": [
    "print(x*y)"
   ]
  },
  {
   "cell_type": "code",
   "execution_count": 26,
   "id": "fa7b4458-57b3-4a0f-8da9-fa160119a93e",
   "metadata": {},
   "outputs": [
    {
     "name": "stdout",
     "output_type": "stream",
     "text": [
      "24/25\n"
     ]
    }
   ],
   "source": [
    "print(x/y)"
   ]
  },
  {
   "cell_type": "code",
   "execution_count": null,
   "id": "15789273-797d-4146-a8d2-db730c785d2b",
   "metadata": {},
   "outputs": [],
   "source": []
  }
 ],
 "metadata": {
  "kernelspec": {
   "display_name": "Python 3 (ipykernel)",
   "language": "python",
   "name": "python3"
  },
  "language_info": {
   "codemirror_mode": {
    "name": "ipython",
    "version": 3
   },
   "file_extension": ".py",
   "mimetype": "text/x-python",
   "name": "python",
   "nbconvert_exporter": "python",
   "pygments_lexer": "ipython3",
   "version": "3.11.7"
  }
 },
 "nbformat": 4,
 "nbformat_minor": 5
}
